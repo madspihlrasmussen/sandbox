{
 "cells": [
  {
   "cell_type": "markdown",
   "id": "4d8803b4",
   "metadata": {},
   "source": [
    "## Idiomatisk Python\n",
    "\n",
    "Gezerlis mål med boken är inte bara att implementera färdigskrivna bibliotekers numeriska funktioner men att också försöka *förstå* varför en given numerisk metod fungerar. Därför utvecklas de flesta funktioner som används från grunden istället för att plockas direkt från hyllan $\\texttt{färdiga funktioner}$.\n",
    "\n",
    "Pythonkoder bör vara läsbara av människor så vi försöker att undvika för många genvägar och \"smarta\" tricks. Vi ska i ävrigt också själva kunna läsa koden när vi återkommer till den senare och har glömt vad vi höll på med.\n",
    "\n",
    "Börja alltid med att designa koden i ord. Strukturera tankarna så det blir tydligt vad som ska åstadkommas. Detta leder till färre bugs i koden och därmed mindre tid till debugging. Och kör alltid tests av koden inklusive prints av avgörande variabler och liknande. Den måste fungera, inte bara se bra ut. \n",
    "\n",
    "#### Enkla funktioner\n",
    "Strukturera koden runt *enkla* funktioner, inte funktioner som försöker att göra flera saker samtidigt. Kodens olika delar ska separeras tydligt och sen kombineras till en mera komplex helhet. Notera i övrigt att Pythonfunktioner kan användas som argument i andra funktioner vilket är lämpligt när vi ofta vill skicka en funktion in som parameter i någon annan funktion men vi samtidigt vill ha möjlighet att lätt ändra parametern utan att manuellt ändra argumenten inuti funktionen som tar en annan funktion som argument. \n",
    "\n",
    "Vidare kan funktioner lätt användas på varje element i en lista om vi utnyttjar *list comprehension* så till exempel för någon funktion $\\texttt{f}$ som har definierats på egen hand och vars uttryck returneras när vi ropar på den kan vi skrivas\n",
    "\n",
    "\\begin{align*}\n",
    "\\texttt{newlist = [f(x) for x in xlist]}\n",
    "\\end{align*}\n",
    "\n",
    "för någon lista $\\texttt{xlist}$ där nya listan således blir en lista med alla funktionsvärden för variablarna från $\\texttt{xlist}$.\n",
    "\n",
    "I allmänhet rekommenderas det att inte låta funktioner ändra till exempler lister eller annat som ligger utanför funktionen. Istället returneras ett svar från funktionen som sen kan användas utanför funktionsmiljön.\n",
    "\n",
    "#### Iterera över listelement, inte listindex\n",
    "Man kan vara benägen att använda index $\\texttt{i}$ i en $\\texttt{for}$ loop och sen loopa genom $\\texttt{len(xlist)}$ som\n",
    "\n",
    "\\begin{align*}\n",
    "\\texttt{for i in range(len(xlist)):}\n",
    "\\end{align*}\n",
    "\n",
    "men en styrka i Python är att man helt enkelt kan iterera över elementen själva som\n",
    "\n",
    "\\begin{align*}\n",
    "\\texttt{for x in xlist:}\n",
    "\\end{align*}\n",
    "\n",
    "och vill man sen också kunna använda indexet någonstans i loopen kan man använda \n",
    "\n",
    "\\begin{align*}\n",
    "\\texttt{for i, x in enumerate(xlist):}\n",
    "\\end{align*}\n",
    "\n",
    "som därmed både tillåter användning av indexet $\\texttt{i}$ *och* variabeln $\\texttt{x}$ från listan. Enumerate uppräknar med andra ord alla variablarna medan den loopar genom den.\n",
    "\n",
    "Har vi *två listor* tänker vi likadant som med en lista i Python. Vi zipper ned dem i en gemensam datastruktur med inbyggda $\\texttt{zip()}$ funktionen som bildar en itererbar enhet som innehåller tupler, de två ingående listorna blir därför nu oföränderliga strukturer inuti zippade strukturen (vilket är bra, eftersom vi inte vill ändra dem just nu, vi vill använda deras innehåll). Loops över två listor kan uttryckas\n",
    "\n",
    "\\begin{align*}\n",
    "\\texttt{for x, y in zip(xlist, ylist)}\n",
    "\\end{align*}\n",
    "\n",
    "Nu kommer vi i varje iteration av loopen att ta både nästa x och nästa y och använda där variablerna ingår i koden.\n",
    "\n",
    "Vi kan även använda en funktion i en lista och i listan kombinera två lister som har zippats ihop så vi till exempel låter ena listans variabler opererera på funktionsvärden av andra listans variabler som i exemplet nedan.\n",
    "\n",
    "\\begin{align*}\n",
    "\\texttt{z = [y*f(x) for x, y in zip(xlist, ylist):]}\n",
    "\\end{align*}\n",
    "\n",
    "#### For-else loops\n",
    "Ett exempel på en mycket användbar loop är $\\texttt{for-else}$ loopen som exemplifieras nedan. En $\\texttt{for-else}$ gör bland annat att vi kan söka efter något element inuti en följd av element och vi till exempel bara vill utföra någon operation på de element i följden som vi hittar. \n",
    "\n",
    "Vi har en lista med namn och vi vill undersöka om ett givet namn finns med på listan. Finns det med skriver vi ut det och fortsätter genom listan, annars fortsätter vi bara genom listan.\n",
    "\n",
    "Notera hur loopen placeras i en funktion och hur $\\texttt{else}$ är på samma kodnivå som $\\texttt{for}$, inte på samma nivå som $\\texttt{if}$ vilket vi kanske är mera vana vid. I det här fallet fungerar $\\texttt{else}$ som det funktionen returnerar om inte $\\texttt{for}$ loopen har hittat et namn i listan. "
   ]
  },
  {
   "cell_type": "code",
   "execution_count": 1,
   "id": "f0c42704",
   "metadata": {
    "code_folding": []
   },
   "outputs": [
    {
     "name": "stdout",
     "output_type": "stream",
     "text": [
      "The people on the original list were:\n",
      "Alice, Bob, Chris, Denise, \n",
      "\n",
      "Alice is already on the list\n",
      "Peter has been added to the list\n",
      "Chris is already on the list\n",
      "Mary has been added to the list\n",
      "\n",
      "The names on the updated list are:\n",
      "Alice, Bob, Chris, Denise, Peter, Mary, "
     ]
    }
   ],
   "source": [
    "names = ['Alice', 'Bob', 'Chris', 'Denise']\n",
    "\n",
    "def check_name(check, names):\n",
    "    for name in names:\n",
    "        if name == check:\n",
    "            return f'{name} is already on the list'\n",
    "    else:\n",
    "        names.append(check)\n",
    "        return f'{check} has been added to the list'\n",
    "\n",
    "print('The people on the original list were:')\n",
    "for name in names:\n",
    "    print(name, end=\", \")\n",
    "\n",
    "print(f'\\n')\n",
    "    \n",
    "new_names = ['Alice', 'Peter', 'Chris', 'Mary']\n",
    "for person in new_names: \n",
    "    print(check_name(person, names))\n",
    "    \n",
    "print('\\nThe names on the updated list are:')\n",
    "for name in names:\n",
    "    print(name, end=\", \")"
   ]
  },
  {
   "cell_type": "markdown",
   "id": "b3176a1e",
   "metadata": {},
   "source": [
    "#### Endimensionella NumPy arrays\n",
    "\n",
    "$\\texttt{NumPy}$ är ett bibliotek av funktioner i Python som har byggts specifikt för att hantera *Numerisk Python*. Den centrala datastrukturen i NumPy är *arrayer*, listor som bara kan bestå av en typ av element, till exempel heltal eller strings eller annat. \n",
    "\n",
    "En av styrkorna med en sådan array är att vi kan utföra en given operation på alla elementen i array samtidigt. Vi behöver med andra ord inte skriva det som en list comprehension. Endimensionella arrays är således att jämföra med listor och ersätter helt enkelt listor som datastruktur i NumPy.\n",
    "\n",
    "Till exempel om $\\texttt{xs}$ är en array då är $\\texttt{ys = 5*xs}$ arrayen där alla element är 5 gånger respektive element i $\\texttt{xs}$. Och likadant kan funktioner som $\\texttt{np.sqrt()}$ hantera kvadratroten ur alla elementen jämfört med funktioner från till exempel $\\texttt{math}$ biblioteket som hanterar operationer elementvist. \n",
    "\n",
    "Notera hur arrayen nedan bildas från en lista av element. Testa att bilda en array från en lista med element av olika elementtyper och se att det genererar ett felmeddelande. "
   ]
  },
  {
   "cell_type": "code",
   "execution_count": 2,
   "id": "524d0be4",
   "metadata": {},
   "outputs": [
    {
     "name": "stdout",
     "output_type": "stream",
     "text": [
      "[1 2 3 4]\n",
      "[ 5 10 15 20]\n"
     ]
    }
   ],
   "source": [
    "import numpy as np\n",
    "\n",
    "xs = np.array([1, 2, 3, 4])\n",
    "ys = 5*xs\n",
    "print(xs)\n",
    "print(ys)"
   ]
  },
  {
   "cell_type": "markdown",
   "id": "1546d566",
   "metadata": {},
   "source": [
    "Notera att i motsättning till för listor så påverkas en ursprunlig array om vi till exempel tar en slice av den och gör den till en ny array för att slutligen ändra ett av elementen i nya arrayen. Ursprunliga arrayen ändras då också."
   ]
  },
  {
   "cell_type": "code",
   "execution_count": 3,
   "id": "d19505a6",
   "metadata": {},
   "outputs": [
    {
     "name": "stdout",
     "output_type": "stream",
     "text": [
      "[1 2 3]\n",
      "[  1 100   3   4]\n"
     ]
    }
   ],
   "source": [
    "ys = xs[:3]\n",
    "print(ys)\n",
    "\n",
    "ys[1] = 100\n",
    "print(xs)"
   ]
  },
  {
   "cell_type": "markdown",
   "id": "db097585",
   "metadata": {},
   "source": [
    "Vi använder därför till exempel $\\texttt{np.copy()}$ för att kopiera en hel lista eller $\\texttt{np.copy(xs[a:b])}$ för att *kopiera* en slice av en annan array.\n",
    "\n",
    "En annan styrka är att $\\texttt{xs + ys}$ ger en ny array där varje element är summan av respektive element i ursprungsarrayen. Förutsat  alltså att det finns samma antal av samma typ element i varje array. (Summor av listor sammanlänkar [*concatenate*] elementen). "
   ]
  },
  {
   "cell_type": "code",
   "execution_count": 56,
   "id": "0abacee1",
   "metadata": {},
   "outputs": [
    {
     "name": "stdout",
     "output_type": "stream",
     "text": [
      "[5 5 5 5]\n"
     ]
    }
   ],
   "source": [
    "a1 = np.array([1, 2, 3, 4])\n",
    "a2 = np.array([4, 3, 2, 1])\n",
    "\n",
    "a3 = a2 + a1\n",
    "print(a3)"
   ]
  },
  {
   "cell_type": "markdown",
   "id": "491c34e0",
   "metadata": {},
   "source": [
    "**np.where()**\n",
    "\n",
    "Funktionen $\\texttt{np.where()}$ hjälper oss att hitta vilka *index* som motsvarar ett givet värde."
   ]
  },
  {
   "cell_type": "code",
   "execution_count": 5,
   "id": "89d409ee",
   "metadata": {},
   "outputs": [
    {
     "name": "stdout",
     "output_type": "stream",
     "text": [
      "(array([1]),)\n"
     ]
    }
   ],
   "source": [
    "print(np.where(a1 == 2))"
   ]
  },
  {
   "cell_type": "markdown",
   "id": "c36a2eaa",
   "metadata": {},
   "source": [
    "#### Två- och tredimensionella NumPy arrays - matriser och matriser av arrays\n",
    "Matriser kan bildas manuellt som lister av lister. En matris är därmed en tvådimensionell array till exempel på formen"
   ]
  },
  {
   "cell_type": "code",
   "execution_count": 6,
   "id": "cca952f7",
   "metadata": {},
   "outputs": [
    {
     "name": "stdout",
     "output_type": "stream",
     "text": [
      "[[1 2 3]\n",
      " [4 5 6]]\n"
     ]
    }
   ],
   "source": [
    "matris1 = np.array([[1, 2, 3], [4, 5, 6]])\n",
    "print(matris1)"
   ]
  },
  {
   "cell_type": "markdown",
   "id": "8caa3143",
   "metadata": {},
   "source": [
    "Notera alltså hur vi får en matris och inte en lista av listor när vi stoppar listan av listor in i en arrayfunktion.\n",
    "\n",
    "Men vi kan också bilda matriser med de arrayfunktioner som vi bildar vektorer (listliknande) arrays med. I exemplet nedan anger vi rader och kolumner som $(m,n)$ i första matrisen och i den andra utnyttjar vi $\\texttt{identity}$ till att bilda en identitetsmatris med den angivna dimensionen."
   ]
  },
  {
   "cell_type": "code",
   "execution_count": 7,
   "id": "31b38517",
   "metadata": {},
   "outputs": [
    {
     "name": "stdout",
     "output_type": "stream",
     "text": [
      "[[1. 1. 1.]\n",
      " [1. 1. 1.]\n",
      " [1. 1. 1.]\n",
      " [1. 1. 1.]\n",
      " [1. 1. 1.]\n",
      " [1. 1. 1.]]\n",
      "[[1. 0. 0. 0. 0.]\n",
      " [0. 1. 0. 0. 0.]\n",
      " [0. 0. 1. 0. 0.]\n",
      " [0. 0. 0. 1. 0.]\n",
      " [0. 0. 0. 0. 1.]]\n"
     ]
    }
   ],
   "source": [
    "matris2 = np.ones((6, 3))\n",
    "print(matris2)\n",
    "\n",
    "matris3 = np.identity(5)\n",
    "print(matris3)"
   ]
  },
  {
   "cell_type": "markdown",
   "id": "00cb251c",
   "metadata": {},
   "source": [
    "Observera att begreppet \"dimension\" i Python skiljer sig från linjära algebrans dimensionsbegrepp som beskrivs av $m\\times n$ strukturen av en given matris. För en matris i Python gäller rumsliga dimensioner. Således är vektorer endimensionella, matriser är tvådimensionella och matriser av matriser (arrays) är tredimensionella. \n",
    "\n",
    "Dimensionerna för två olika matriser visas nedan. I fallet $\\texttt{matris4}$ bildas själva matrisen av arrayfunktionen $\\texttt{np.arange()}$ tillsammans med $\\texttt{.reshape}$ funktionen som omvandlar en given endimensionell array över något intervall till två matriser inuti en samlad matris. \n",
    "\n",
    "Det är dock nödvändigt att antalet element vi vill placera i matrisen motsvarar produkten av värden i $\\texttt{.reshape}$. I det aktuella exemplet bildar vi en samlad matris av tre $2\\times 2$ matriser från elementen som ges i $\\texttt{np.arange()}$."
   ]
  },
  {
   "cell_type": "code",
   "execution_count": 8,
   "id": "899f8de9",
   "metadata": {},
   "outputs": [
    {
     "name": "stdout",
     "output_type": "stream",
     "text": [
      "2\n"
     ]
    }
   ],
   "source": [
    "print(np.ndim(matris2))"
   ]
  },
  {
   "cell_type": "code",
   "execution_count": 35,
   "id": "ce1447f5",
   "metadata": {},
   "outputs": [
    {
     "name": "stdout",
     "output_type": "stream",
     "text": [
      "[[[ 3  4]\n",
      "  [ 5  6]]\n",
      "\n",
      " [[ 7  8]\n",
      "  [ 9 10]]\n",
      "\n",
      " [[11 12]\n",
      "  [13 14]]]\n",
      "\n",
      "Dimensionen av matris4 är 3\n"
     ]
    }
   ],
   "source": [
    "matris4 = np.arange(3, 15).reshape(3, 2, 2)\n",
    "print(matris4)\n",
    "print(f'\\nDimensionen av matris4 är {np.ndim(matris4)}')"
   ]
  },
  {
   "cell_type": "markdown",
   "id": "517238f0",
   "metadata": {},
   "source": [
    "För att tillgå ett element i en matris använder vi oss av samma $A_{ij}$ indexeringsmetod som vi är vana vid. Således kan vi skriva ut ett element som nedan. Notera att det fortfarande är Pythons indexeringsformat som används så element $[2, 1]$ är till exempel *tredje* raden *andra* kolumnen:"
   ]
  },
  {
   "cell_type": "code",
   "execution_count": 34,
   "id": "81ac4b62",
   "metadata": {},
   "outputs": [
    {
     "name": "stdout",
     "output_type": "stream",
     "text": [
      "[13 14]\n"
     ]
    }
   ],
   "source": [
    "print(matris4[2, 1])"
   ]
  },
  {
   "cell_type": "markdown",
   "id": "96dbaf1c",
   "metadata": {},
   "source": [
    "Vi kan göra slices av matriser som nedan för matrisen A där vi väljer ut en given rad och sen alla elementen i den raden."
   ]
  },
  {
   "cell_type": "code",
   "execution_count": 37,
   "id": "5b1ed1a0",
   "metadata": {
    "scrolled": false
   },
   "outputs": [
    {
     "name": "stdout",
     "output_type": "stream",
     "text": [
      "[[1 2]\n",
      " [3 4]]\n",
      "[3 4]\n"
     ]
    }
   ],
   "source": [
    "A = np.arange(1, 5).reshape(2, 2)\n",
    "print(A)\n",
    "print(A[1,:])"
   ]
  },
  {
   "cell_type": "markdown",
   "id": "317b5acf",
   "metadata": {},
   "source": [
    "I en lite större matris kan vi skära ut en block av element eller en rad mitt i matrisen eller vad vi nu vill. Ett par exempel ges nedan. \n",
    "\n",
    "Först skär vi ut ett $2\\times3$ block och sen skär vi utt mitterkolumnen. Slutligen skär vi ut ett block utan första och andra kolumnen.\n",
    "\n",
    "Notera återigen Pythonkonventionen kring indexering. Vi *börjar* med värdet $a$ men vi tar inte med $b$ i notationen $\\texttt{[a:b]}$. Vidare kan vi utnyttja att $-1$ alltid tar med sista kolumnen / elementet i ett intervall."
   ]
  },
  {
   "cell_type": "code",
   "execution_count": 50,
   "id": "97d3f116",
   "metadata": {
    "scrolled": true
   },
   "outputs": [
    {
     "name": "stdout",
     "output_type": "stream",
     "text": [
      "[[ 1  2  3  4]\n",
      " [ 5  6  7  8]\n",
      " [ 9 10 11 12]]\n",
      "[[5 6 7 8]]\n",
      "[[5 6 7 8]]\n",
      "[[ 2  3]\n",
      " [ 6  7]\n",
      " [10 11]]\n"
     ]
    }
   ],
   "source": [
    "B = np.arange(1,13).reshape(3, 4)\n",
    "\n",
    "print(B)\n",
    "\n",
    "print(B[1:2, :])\n",
    "\n",
    "print(B[1:2, :])\n",
    "\n",
    "print(B[0:3, 1:-1])"
   ]
  },
  {
   "cell_type": "markdown",
   "id": "49b8cd35",
   "metadata": {},
   "source": [
    "**Matrismultiplikation** tar olika former.\n",
    "\n",
    "Specifikt ger produkten av två arrays den så kallade *Hadamard* produkt som är elementvis multiplikation i motsättning till linjära algebrans multiplikation.\n",
    "\n",
    "Matrismultiplikation utnyttjar istället $@$ eller $\\texttt{np.dot()}$ funktionen som nedan. Notera hur $\\texttt{np.dot()}$ automatiskt blir skalärprodukten av två vektorer när två endimensionella arrays multipliceras med varandra. Vi behöver således inte transponera ena vektorn för att ta skalärprodukten av vektorerna. Men *om* vi vill åstadkomma en $n\\times n$ matris från produkten av två $n\\times 1$ matriser då kan vi göra detta genom att ta $\\href{https://en.wikipedia.org/wiki/Outer_product}{\\textbf{yttre } produkten}$ $A\\bigotimes B$ av matriserna. Beroende av ordningen på ingående matriserna bildas *två olika* $n\\times n$ matriser (!)\n",
    "\n",
    "**Division** av alla matriselement kan utnyttjas som nedan. Vi kan således både dividera alla element i matrisen med samma nämnare och vi kan dividera ledvist mellan två matriser."
   ]
  },
  {
   "cell_type": "code",
   "execution_count": 71,
   "id": "3614c6f0",
   "metadata": {},
   "outputs": [
    {
     "name": "stdout",
     "output_type": "stream",
     "text": [
      "[[10 13]\n",
      " [22 29]]\n",
      "[[10 13]\n",
      " [22 29]]\n",
      "20\n",
      "[[1.59154943 2.06901426]\n",
      " [3.50140875 4.61549335]]\n",
      "[[2.         1.5       ]\n",
      " [1.33333333 1.25      ]]\n",
      "[[ 2  4  6  8]\n",
      " [ 3  6  9 12]\n",
      " [ 4  8 12 16]\n",
      " [ 5 10 15 20]]\n",
      "[[ 2  3  4  5]\n",
      " [ 4  6  8 10]\n",
      " [ 6  9 12 15]\n",
      " [ 8 12 16 20]]\n"
     ]
    }
   ],
   "source": [
    "A = np.arange(1, 5).reshape(2, 2)\n",
    "B = np.arange(2, 6).reshape(2, 2)\n",
    "\n",
    "C = np.dot(A, B)\n",
    "print(C)\n",
    "D = A@B\n",
    "print(D)\n",
    "\n",
    "# a1 och a2 som ovan\n",
    "a4 = np.dot(a1, a2)\n",
    "print(a4)\n",
    "\n",
    "print(D/(2*np.pi))\n",
    "print(B/A)\n",
    "\n",
    "# bilda en n x n matris\n",
    "E = np.arange(1,5)\n",
    "F = np.arange(2,6)\n",
    "\n",
    "# två olika n x n matriser\n",
    "print(np.outer(F,E))\n",
    "print(np.outer(E,F))"
   ]
  }
 ],
 "metadata": {
  "kernelspec": {
   "display_name": "Python 3 (ipykernel)",
   "language": "python",
   "name": "python3"
  },
  "language_info": {
   "codemirror_mode": {
    "name": "ipython",
    "version": 3
   },
   "file_extension": ".py",
   "mimetype": "text/x-python",
   "name": "python",
   "nbconvert_exporter": "python",
   "pygments_lexer": "ipython3",
   "version": "3.9.7"
  }
 },
 "nbformat": 4,
 "nbformat_minor": 5
}
