{
 "cells": [
  {
   "attachments": {},
   "cell_type": "markdown",
   "metadata": {},
   "source": [
    "### Beräkning av sparande med både ränta och fast insättning varje ränteperiod"
   ]
  },
  {
   "attachments": {},
   "cell_type": "markdown",
   "metadata": {},
   "source": [
    "**Version 1: Lägg till procentuell förändring samt insättning för varje ränteperiod**"
   ]
  },
  {
   "cell_type": "code",
   "execution_count": 4,
   "metadata": {},
   "outputs": [
    {
     "name": "stdout",
     "output_type": "stream",
     "text": [
      "0 \t 5000\n",
      "1 \t 10075.0\n",
      "2 \t 15226.12\n",
      "3 \t 20454.52\n",
      "4 \t 25761.33\n",
      "5 \t 31147.75\n",
      "6 \t 36614.97\n",
      "7 \t 42164.2\n",
      "8 \t 47796.66\n",
      "9 \t 53513.61\n",
      "10 \t 59316.31\n",
      "11 \t 65206.06\n",
      "12 \t 71184.15\n",
      "13 \t 77251.91\n",
      "14 \t 83410.69\n"
     ]
    }
   ],
   "source": [
    "insättning = 5000\n",
    "ränta = 0.015\n",
    "saldo = 5000\n",
    "\n",
    "for i in range(15):\n",
    "    print(f\"{i} \\t {round(saldo, 2)}\")\n",
    "    saldo += saldo * ränta + insättning\n",
    "    \n"
   ]
  },
  {
   "attachments": {},
   "cell_type": "markdown",
   "metadata": {},
   "source": [
    "**Version 2: Använd förändringsfaktor och lägg till insättning** "
   ]
  },
  {
   "cell_type": "code",
   "execution_count": 5,
   "metadata": {},
   "outputs": [
    {
     "name": "stdout",
     "output_type": "stream",
     "text": [
      "0 \t 5000\n",
      "1 \t 10075.0\n",
      "2 \t 15226.12\n",
      "3 \t 20454.52\n",
      "4 \t 25761.33\n",
      "5 \t 31147.75\n",
      "6 \t 36614.97\n",
      "7 \t 42164.2\n",
      "8 \t 47796.66\n",
      "9 \t 53513.61\n",
      "10 \t 59316.31\n",
      "11 \t 65206.06\n",
      "12 \t 71184.15\n",
      "13 \t 77251.91\n"
     ]
    }
   ],
   "source": [
    "insättning = 5000\n",
    "ff = 1.015\n",
    "saldo = 5000\n",
    "\n",
    "for i in range(14):\n",
    "    print(f\"{i} \\t {round(saldo, 2)}\")\n",
    "    saldo = ff*saldo + insättning\n",
    "    "
   ]
  },
  {
   "attachments": {},
   "cell_type": "markdown",
   "metadata": {},
   "source": [
    "**Nytt scenario: Stoppa när vi når ett önskat värde**"
   ]
  },
  {
   "cell_type": "code",
   "execution_count": 2,
   "metadata": {},
   "outputs": [
    {
     "name": "stdout",
     "output_type": "stream",
     "text": [
      "0 \t 5000\n",
      "1 \t 10075.0\n",
      "2 \t 15226.12\n",
      "3 \t 20454.52\n",
      "4 \t 25761.33\n",
      "5 \t 31147.75\n",
      "6 \t 36614.97\n",
      "7 \t 42164.2\n",
      "8 \t 47796.66\n",
      "9 \t 53513.61\n",
      "10 \t 59316.31\n",
      "11 \t 65206.06\n"
     ]
    },
    {
     "data": {
      "image/png": "[encoded data removed]",
      "text/plain": [
       "<Figure size 640x480 with 1 Axes>"
      ]
     },
     "metadata": {},
     "output_type": "display_data"
    }
   ],
   "source": [
    "import matplotlib.pyplot as plt\n",
    "\n",
    "insättning = 5000\n",
    "ränta = 0.015\n",
    "saldo = 5000\n",
    "\n",
    "i = 1\n",
    "\n",
    "print(f\"0 \\t {round(saldo, 2)}\")\n",
    "\n",
    "while saldo < 60000:\n",
    "    saldo += saldo * ränta + insättning\n",
    "    print(f\"{i} \\t {round(saldo, 2)}\")\n",
    "    plt.plot(i, saldo, 'k.')\n",
    "\n",
    "    i += 1\n",
    "\n",
    "plt.grid('on')\n",
    "plt.xlabel('År')\n",
    "plt.ylabel('Värde (kr)')\n",
    "plt.show()\n",
    "    \n"
   ]
  }
 ],
 "metadata": {
  "kernelspec": {
   "display_name": "vscodejupyternotebooks",
   "language": "python",
   "name": "python3"
  },
  "language_info": {
   "codemirror_mode": {
    "name": "ipython",
    "version": 3
   },
   "file_extension": ".py",
   "mimetype": "text/x-python",
   "name": "python",
   "nbconvert_exporter": "python",
   "pygments_lexer": "ipython3",
   "version": "3.9.5"
  },
  "orig_nbformat": 4,
  "vscode": {
   "interpreter": {
    "hash": "5d517c78b48d458021431b80b189d7bf718714e579d454c446267d41f073c46c"
   }
  }
 },
 "nbformat": 4,
 "nbformat_minor": 2
}
