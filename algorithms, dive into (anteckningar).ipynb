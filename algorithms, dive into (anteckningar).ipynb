{
 "cells": [
  {
   "cell_type": "markdown",
   "id": "daef3af8",
   "metadata": {},
   "source": [
    "# DIVE INTO ALGORITHMS\n",
    "**Bradford Tuckfield**, No Starch Press, 2021"
   ]
  },
  {
   "cell_type": "markdown",
   "id": "c67bf508",
   "metadata": {},
   "source": [
    "# Inledning\n",
    "\n",
    "Vi kan betrakta en algoritm som en endlig mängd regler i en följd av operationer som löser en specifik typ av problem.\n",
    "\n",
    "Datorer och andra digitala strukturer är bra verktyg till att implementera algoritmer med god precision, men algoritmer i allmänhet är mycket mera allmänna företeelser än specifika datorprogram. \n",
    "\n",
    "Dokumentet innehåller:\n",
    "\n",
    "1. [Russian peasant multiplication](#russian_peasant_multiplication)\n",
    "2. [Euklids divisionsalgoritm](#divisionsalgoritmen)"
   ]
  },
  {
   "cell_type": "markdown",
   "id": "e211d6bf",
   "metadata": {},
   "source": [
    "<a id='russian_peasant_multiplication'></a>\n",
    "## Russian Peasant Multiplication (RPM)\n",
    "\n",
    "Vi vill multiplicera 89 med 18 och vi bildar nu två kolumner, en för *halvering* och en för *dubblering*. \n",
    "\n",
    "I halveringskolumnen delar vi nu med 2 och ignorerar resten. Så fortsätter vi tills vi når 1. Och sen dubblerar vi iterativt i den andra kolumnen. Detta ger tabellen nedan.\n",
    "\n",
    "<img src=\"images/algorithms01.png\" style=\"width: 300px;\"/>\n",
    "\n",
    "Vi plockar nu bort alla värden i halveringskolumnen som är jämna tal. Och slutligen tar vi summan av det som är kvar i dubbleringskolumnen. Detta ger oss svaret på $89\\times18=1602$.\n",
    "\n",
    "<img src=\"images/algorithms02.png\" style=\"width: 300px;\"/>\n",
    "\n",
    "Detta fungerar eftersom dubbleringskolonnen består av en summa av $2^a$ multipler av 18 och mera specifikt ser vi att vi har\n",
    "\n",
    "$$\n",
    "(2^0\\cdot18) + (2^3\\cdot18) + (2^4\\cdot18) + (2^6\\cdot18) = (1+2+4+8+16+32+64)\\cdot 18 = 89\\cdot18\n",
    "$$\n",
    "\n",
    "eftersom vi endast har kvar de $2^a$ som motsvarar jämna tal i halveringskolumnen. Men varför fungerar detta? \n",
    "\n",
    "Titta nu på hur tabellen ser ut om vi skriver halveringskolumnen som summor av $2^a$ termer och multiplicerar varje sådan summa med $2^1$. Vidare lägger vi till en term $2^0$ i varje rad där halveringstalet är udda.\n",
    "\n",
    "<img src=\"images/algorithms03.png\" style=\"width: 400px;\"/>\n",
    "\n",
    "Numrera nu raderna från 0 till *n* vilket i detta fall ger följden $\\{0,1,2,3,4,5,6\\}$. Intressant nog är det raderna 0, 3, 4 och 6 som är där vi har lagt till en extra $2^0$, alltså det är raderna där vi har udda halveringstal. Och samtidigt är dessa radnummer exakt samma värden som potenserna i $2^0+2^3+2^4+2^6$ gav oss ovan.\n",
    "\n",
    "När vi således tar \n",
    "\n",
    "$$\n",
    "18\\cdot\\left(2^0+2^3+2^4+2^6\\right)\n",
    "$$\n",
    "\n",
    "är detta helt enkelt produkten av 18 med summan av de potenser av 2 som ger 89. Men detta måste då motsvara summan av exakt de raderna i dubbleringskolumnen som innehåller just dessa potenser eftersom vi i den kolumnen har brutit ned dubbleringen i termer av formen $18\\cdot 2^a$.\n",
    "\n",
    "Egentligen har vi i denna algoritm en annan algoritm inbakad i form av talet 89 på binär form eftersom \n",
    "\n",
    "$$\n",
    "89 = (1\\cdot 2^0) + (0\\cdot2^1) + (0\\cdot 2^2) + (1\\cdot 2^3) + (1\\cdot 2^4) + (0\\cdot 2^5) + (1\\cdot 2^6)\n",
    "$$\n",
    "och\n",
    "$$\n",
    "89_2 = 1001101\n",
    "$$\n",
    "\n",
    "och nu ser vi återigen indirekt, den här gången från positionerna i binära forman av 89, att rad 0, 3, 4 och 6 av dubbleringskolumnen är de som vi summerar ihop."
   ]
  },
  {
   "cell_type": "markdown",
   "id": "1ab43d64",
   "metadata": {},
   "source": [
    "<a id='the_destination'></a>\n",
    "### Python implementering\n",
    "\n",
    "Låt oss implementera detta i Python. \n",
    "\n",
    "Det centrala verktyget vi behöver är $\\texttt{math.floor}$ så vi kan halvera och runda ned utan att spara någon rest. \n",
    "\n",
    "Vi bildar en lista med den af faktorerna som ska halveras och sen använder vi en loop som först halvera och sen lägger till nya värdet i halveringslistan.\n",
    "\n",
    "Vi har redan sett att algoritmen fungerar för hand med $89\\cdot18$, så vi kan börja med att implementera den produkten i Python för att se att det faktiskt fungerar."
   ]
  },
  {
   "cell_type": "code",
   "execution_count": null,
   "id": "32a1517d",
   "metadata": {
    "code_folding": []
   },
   "outputs": [],
   "source": [
    "# math biblioteket innehåller funktionen math.floor\n",
    "import math\n",
    "\n",
    "# startvärdet i rad 0\n",
    "h0 = 89\n",
    "\n",
    "# initiera halveringslistan och inkludera startvärdet \n",
    "halvering = [h0]\n",
    "\n",
    "# loopa genom halveringar av sista värdet i listan tills sista värdet är 1\n",
    "while halvering[-1] > 1:\n",
    "    halvering.append(math.floor(halvering[-1]/2))\n",
    "\n",
    "print(halvering)"
   ]
  },
  {
   "cell_type": "markdown",
   "id": "ff0b31d3",
   "metadata": {},
   "source": [
    "Vi vill också bilda en lista för dubblering med startvärdet 18 och vi gör detta enkelt med en loop som utnyttjar antalet element i halveringslistan."
   ]
  },
  {
   "cell_type": "code",
   "execution_count": null,
   "id": "ec46cb98",
   "metadata": {
    "code_folding": []
   },
   "outputs": [],
   "source": [
    "# startvärdet i rad 0\n",
    "d0 = 18\n",
    "\n",
    "# initiera dubbleringslistan och inkludera startvärdet\n",
    "dubblering = [d0]\n",
    "\n",
    "# loopa genom dubbleringar av sista värdet i listan len(halvering)-1 antal gånger\n",
    "# eftersom vi redan har första värdet = d0\n",
    "for i in range(len(halvering)-1):\n",
    "    dubblering.append(dubblering[-1]*2)\n",
    "\n",
    "print(dubblering)"
   ]
  },
  {
   "cell_type": "markdown",
   "id": "c98c292a",
   "metadata": {},
   "source": [
    "Vi vill nu göra en samlad tabell med våra två listor på samma sätt som vi gjorde för hand ovan. Med Pythons bibliotek $\\texttt{pandas}$ kan man lätt göra detta. Vi använder en tvådimensionell dataform som kallas för $\\texttt{DataFrame}$ som bland annat har fördelen att den direkt numrerar rader och kolumner från och med index 0. \n",
    "\n",
    "Vi bildar tabellen genom att använda funktionen $\\texttt{zip}$ som klistrar ihop de två kolumnerna - som när en blixtlås samlar två sidor av en jacka.\n",
    "\n",
    "Notera att när du kör koden nedan första gången kan det ta en stund innan cellens output visas. Pandaer är lite tröga djur."
   ]
  },
  {
   "cell_type": "code",
   "execution_count": null,
   "id": "948d9806",
   "metadata": {
    "scrolled": true
   },
   "outputs": [],
   "source": [
    "import pandas as pd\n",
    "\n",
    "rpm_tabell = pd.DataFrame(zip(halvering, dubblering))\n",
    "\n",
    "print(rpm_tabell)"
   ]
  },
  {
   "cell_type": "markdown",
   "id": "80000923",
   "metadata": {},
   "source": [
    "Det återstår att både plocka bort raderna 1, 2 och 5 från kolumn 0 och sen att summera kvarvarande värden i kolumn 1.\n",
    "\n",
    "I Pandas har vi en smidig kommando $\\texttt{[namn].loc[ ]}$ som specifikt väljer ut de rader en en given kolumn som vi specificerar. Och i det här fallet vill vi komma åt alla rader som *inte* är delbara med 2 eftersom vi från kolumn 0 endast vill ha kvar rader med udda tal. \n",
    "\n",
    "För att göra detta kan vi använda Pythons inbyggda $\\texttt{modulo}$ funktionalitet och välja alla talen som är 1 modulo 2, alltså alla tal som har en rest 1 när de delas med 2, vilket ju precis är alla udda tal. Alla sådana tal *a* skriver vi $\\texttt{a%2 == 1}$.\n",
    "\n",
    "$\\texttt{loc}$ kommandot använder kommas till att separera rader och kolumner och eftersom det är från kolumn 0 vi vill identificera de udda talen är det också på dennas rader att vi gör modulooperationen. *Men* sen är det ju egentligen de kvarvarande värden i kolumn 1 vi vill ha kvar och vi låter alltså $\\texttt{loc}$ välja att ha kvar just denna kolonn.\n",
    "\n",
    "I Python blir detta"
   ]
  },
  {
   "cell_type": "code",
   "execution_count": null,
   "id": "b737525d",
   "metadata": {
    "code_folding": []
   },
   "outputs": [],
   "source": [
    "rpm_values = rpm_tabell.loc[rpm_tabell[0]%2 == 1, 1]"
   ]
  },
  {
   "cell_type": "markdown",
   "id": "9e8aff9a",
   "metadata": {},
   "source": [
    "Vi använder därmed tabellen till att bilda en ny tabell som bara är *en* kolumn med precis de värden vi vill summera.\n",
    "\n",
    "Man kan nu direkt i Pandas summera alla värden i rpm_values tabellen men säg att vi gärna vill ha en array med värden först av någon anledning, till exempel om vi vill göra något annat med data eller vi vill spara dem i ett format vi lätt kan använda i loops och liknande. \n",
    "\n",
    "Vi använder därför Pandas $\\texttt{.values}$ kommando som gör om DataFramen till en array. "
   ]
  },
  {
   "cell_type": "code",
   "execution_count": null,
   "id": "a1f5db70",
   "metadata": {},
   "outputs": [],
   "source": [
    "rpm_values = rpm_values.values\n",
    "print(rpm_values)"
   ]
  },
  {
   "cell_type": "markdown",
   "id": "2dbb6df0",
   "metadata": {},
   "source": [
    "Slutligen summerar vi alla elementen i rpm_values och nu har vi resultatet av multiplikationen vi söker."
   ]
  },
  {
   "cell_type": "code",
   "execution_count": null,
   "id": "ffd5c995",
   "metadata": {},
   "outputs": [],
   "source": [
    "rpm_svar = sum(rpm_values)\n",
    "print(f'{h0} * {d0} = {rpm_svar}')"
   ]
  },
  {
   "cell_type": "markdown",
   "id": "60863708",
   "metadata": {},
   "source": [
    "Vi kan nu samla hela koden nedan. I implementeringen vill vi gärna låta användaren kunna bestämma vilken produkt som ska beräknas så vi lägger till några linjer kod med inputmöjligheter samt inkluderar lite pedagogisk text."
   ]
  },
  {
   "cell_type": "code",
   "execution_count": null,
   "id": "63425f50",
   "metadata": {
    "code_folding": [],
    "scrolled": true
   },
   "outputs": [],
   "source": [
    "# samlat program för RPM multiplikationsalgoritmen\n",
    "\"\"\"Detta program använder algoritmen Russian Peasant Multiplication (RPM) \n",
    "till att beräkna produkten av två tal.\"\"\"\n",
    "\n",
    "# math biblioteket innehåller funktionen math.floor\n",
    "import math\n",
    "\n",
    "#pandas biblioteket använder vi till att bilda en datatabell av två listor\n",
    "import pandas as pd\n",
    "\n",
    "# introducerande text\n",
    "print('Detta program använder algoritmen Russian Peasant Multiplication (RPM)\\n' \n",
    "      'till att beräkna produkten av två heltal.')\n",
    "\n",
    "# halveringslistans startvärde i rad 0\n",
    "h0 = int(input(f'\\nSkriv in det första heltalet i produkten: '))\n",
    "\n",
    "# initiera halveringslistan och inkludera startvärdet \n",
    "halvering = [h0]\n",
    "\n",
    "# loopa genom halveringar av sista värdet i listan tills sista värdet är 1\n",
    "while halvering[-1] > 1:\n",
    "    halvering.append(math.floor(halvering[-1]/2))\n",
    "\n",
    "# dubbleringsllistans startvärde i rad 0\n",
    "d0 = int(input(f'\\nSkriv in det andra heltalet i produkten: '))\n",
    "\n",
    "# initiera dubbleringslistan och inkludera startvärdet\n",
    "dubblering = [d0]\n",
    "\n",
    "# loopa genom dubbleringar av sista värdet i listan len(halvering)-1 antal gånger\n",
    "# eftersom vi redan har första värdet = d0\n",
    "for i in range(len(halvering)-1):\n",
    "    dubblering.append(dubblering[-1]*2)\n",
    "\n",
    "print(f'\\nBeräknar nu produkten {h0} * {d0}')\n",
    "\n",
    "# bilda en tabell av de två listorna\n",
    "rpm_tabell = pd.DataFrame(zip(halvering, dubblering))\n",
    "\n",
    "# välj bara ut de värden i dubbleringslistan \n",
    "# som motsvaras av udda tal i halveringslistan.\n",
    "rpm_values = rpm_tabell.loc[rpm_tabell[0]%2 == 1, 1]\n",
    "\n",
    "# gör en array ut av värden vi har kvar från dubbleringslistan\n",
    "rpm_values = rpm_values.values\n",
    "\n",
    "# summera värden i arrayen och skriv ut svaret\n",
    "rpm_svar = sum(rpm_values)\n",
    "print(f'{h0} * {d0} = {rpm_svar}')"
   ]
  },
  {
   "cell_type": "markdown",
   "id": "ba702de0",
   "metadata": {},
   "source": [
    "<a id='divisionsalgoritmen'></a>\n",
    "## Euklids divisionsalgoritm\n",
    "\n",
    "Vi har två heltal och vi vill nu hitta den största gemensamma delaren mellan dem. Euklids divisionalgoritm löser detta för oss genom att utgå ifrån att någon tal $a$ delat med $b$ antingen har $b$ som en delare av $a$ och då är vi ju egentligen klara, eller också kan vi ta $q_1$ multipler av $b$ och ha kvar en rest $c$. \n",
    "\n",
    "Alltså får vi\n",
    "\n",
    "\\begin{equation}\\label{division med rest}\n",
    "    a = q_1b+c\n",
    "\\end{equation}\n",
    "\n",
    "Resten $c$ är alltid mindre än både $a$ och $b$, annars skulle det inte vara en rest.\n",
    "\n",
    "$b$ är alltså större än $c$ så tar vi $b/c$ får vi\n",
    "\\begin{equation*}\n",
    "    b = q_2c+d\n",
    "\\end{equation*}\n",
    "\n",
    "och i nästa steg\n",
    "\\begin{equation*}\n",
    "   c = q_3d+e\n",
    "\\end{equation*}\n",
    "\n",
    "och så vidare.\n",
    "\n",
    "För varje steg får vi en rest som blir mindre och mindre eftersom resten ju måste vara strikt mindre än talet i VL av ekvationen och detta tal var i sin tur strikt mindre än VL i förra iterationen av ekvationen.\n",
    "\n",
    "Processen tar slut när vi kommer till resten 0 eftersom då har vi hittat ett tal som måste vara en delare till talet i vänsterledet. Men då måste den sista nollskilda resten vi fick vara största gemensamma delaren till våra två ursprungliga tal. \n",
    "\n",
    "Alltså om vi i steg $i$ får\n",
    "\\begin{eqnarray}\n",
    "    l = q_i m + 0\n",
    "\\end{eqnarray}\n",
    "\n",
    "dår är $m$ största gemensamma delare (SGD) till $a$ och $b$ om detta var talen vi började med.\n",
    "\n",
    "Men varför fungerar detta?\n",
    "\n",
    "Låt oss ta ett exempel med tal då blir det mera konkreta och vi kan bättre övertyga oss om att det bör fungera. Ett egentligt bevis gör vi inte men idéen från det konkreta exemplet bär över till beviset som vi kan göra algebraiskt på ett analogt sätt.\n",
    "\n",
    "Säg att vi vill bestämma $\\text{gcd}(6743, 253)$. Vi får då\n",
    "\n",
    "\\begin{eqnarray*}\n",
    "    6743 &=& 26 \\times 253 + 165 \\\\\n",
    "    253 &=& 1 \\times 165 + 88 \\\\\n",
    "    165 &=& 1\\times 88 + 77 \\\\\n",
    "    88 &=& 1 \\times 77 + 11 \\\\\n",
    "    77 &=& 7\\times 11 + 0\n",
    "\\end{eqnarray*}\n",
    "\n",
    "Från detta drar vi slutsatsen att 11 är SGD till 6743 och 253. \n",
    "\n",
    "Från processen ovan vet vi att 11 delar 77 (ja, det kanske vi redan visste...) men nu vet vi också att 11 måste vara en delare till 88 eftersom just 11 var resten när vi delade 88 med 77. Eller med andra $7\\times11 + 11=88=8\\times 11$ (inte heller detta kanske kommer som största överraskningen någonsin...). \n",
    "\n",
    "Matematiskt kan vi skriva att talet $u$ är en delare till talet $v$ som $u|v$ och därför kan vi skriva att $11|77$ och $11|88$. Och nu kommer vi till 165 som är summan $88+77$ och det kan inte betyda annat än att $11|(77+88)=11|165$ när 11 var en delare till båda talen i summan som gav oss 165. \n",
    "\n",
    "Nu ser du kanske att detta leder oss tillbaka till 6743 och 253 som var talen vi började med. 11 är en delare till alla talen i vänsterleden i uppställningen av algoritmen men ingen av dessa tal är delare till varandra eftersom alla divisionerna ledde till rester. 11 är därför SGD till alla dessa tal och specifikt till de två talen vi började med.\n",
    "\n",
    "Vi kan nu implementera divisionsalgoritmen i Python. Detta gör vi med en simpel funktion som först ordnar talparet i dividend (talet vi vill dividera) och divisor (talet vi vill dividera med) och sen steg för steg arbetar sig ned till resten noll enligt metoden vi har kommit fram till ovan.\n",
    "\n",
    "Notera en viktig detalj: algoritmen är *rekursiv* i $\\texttt{else:}$ steget. Vi ropar med andra ord på funktionen $\\texttt{sgd}$ själv inuti funktionen för att börja om undersökningen av förhållandet mellan dividend och divisor tills funktionens $\\texttt{if}$ sats uppfylls."
   ]
  },
  {
   "cell_type": "code",
   "execution_count": null,
   "id": "1c75ea77",
   "metadata": {
    "code_folding": []
   },
   "outputs": [],
   "source": [
    "# divisionsalgoritmen\n",
    "def sgd(a, b):\n",
    "    # automatisera vilken som blir dividend och vilken divisor\n",
    "    dividend = max(a,b)\n",
    "    divisor = min(a,b)\n",
    "\n",
    "    # resten från modulo 'dividend'\n",
    "    rest = dividend % divisor\n",
    "    \n",
    "    if rest == 0:\n",
    "        return divisor\n",
    "\n",
    "    # om inte vi direkt hittade SGD sätter vi nu en ny dividend \n",
    "    # och diviser från divisorn (som blir dividend) och resten\n",
    "    # från förra iterationen. \n",
    "    else:\n",
    "        return sgd(divisor,rest)\n",
    "    \n",
    "# print(sgd(a, b))"
   ]
  },
  {
   "cell_type": "markdown",
   "id": "5371c256",
   "metadata": {},
   "source": [
    "<a id='maximering_minimering'></a>\n",
    "## Maximering och minimering\n",
    "\n",
    "Säg att vi har etablerat en liten koloni på en av Jupiters måner men den stora utmaningen är att skaffa tillräckligt med väte till energibehoven i kolonin. Men i vår tid har vätet blivit ett mycket effektivt raketbränsle och vi beslutar därför att en del av vår energibudget ska finansieras från transitavgifter när icke-kolonisters fartyg rör sig genom vår del av solsystemet. De ska helt enkelt betala med en andel av deras fartygs bränsle. Vi frågar vår finansiella konsulter hur vi bäst kan maximera energitillförseln från sådana aktiviteter och de har kommit fram till en funktion som beskriver utvecklingen i sambandet mellan avgiftens och tillförselns storlek. Funktionen är\n",
    "\n",
    "\\begin{equation*}\n",
    "    f(x) = 0.15\\left(\\ln{(x+1)} - (x-0.2)^2 + 0.04\\right)\n",
    "\\end{equation*}\n",
    "\n",
    "där $x$ är avgiftssatsen, men normaliserat så 1 är 100\\%. Funktionen är således definierad för $x \\in[0, 1]$.\n",
    "\n",
    "Låt oss plotta denna funktion i Python genom att först importera $\\texttt{numpy}$ biblioteket så vi kan använda naturliga logaritmen (som bara heter $\\texttt{log}$ i Python). Vi definierar funktionen som en Pythonfunktion och bildar två lister, en för avgiften och en för mängden energi vi får. Listen med avgifter innehåller 1000 värden från 0 till 1 så vi får en relativt slät kurva när vi avbildar punkterna i ett koordinatsystem.\n",
    "\n",
    "Vi kan lägga till lite extra plotspecifikationer så vi både får ett rutnät med högre upplösning och så vi får fler skalstreck på axlarna. Det hjälper oss att avläsa grafen bättre.\n",
    "\n",
    "Dessutom plottar vi en punkt som visar energitillförseln för ett konkret val av avgift. Plotspecifikationerna för detta anges i koden, men man kan också välja att helt bortse från texten som följer punkten, och man kan även välja en enklare modell där $\\texttt{plt.annotate} har en fast placering relativt punkten."
   ]
  },
  {
   "cell_type": "code",
   "execution_count": 220,
   "id": "1f1abef7",
   "metadata": {},
   "outputs": [
    {
     "data": {
      "image/png": "[encoded data removed]",
      "text/plain": [
       "<Figure size 720x504 with 1 Axes>"
      ]
     },
     "metadata": {
      "needs_background": "light"
     },
     "output_type": "display_data"
    }
   ],
   "source": [
    "import numpy as np\n",
    "import matplotlib.pyplot as plt\n",
    "\n",
    "# funktion som tar variabeln 'avgift' för avgiftssatsen\n",
    "def energiavgift(avgift):\n",
    "    y = 0.15*(np.log(avgift + 1) - (avgift - 0.2)**2 + 0.04)\n",
    "    \n",
    "    return y\n",
    "\n",
    "# en lista med möjliga avgifter och en lista med resulterande energitillförsel\n",
    "avgifter = [i/1000 for i in range(1001)]\n",
    "energi = [energiavgift(i) for i in avgifter]\n",
    "\n",
    "# plotta avgiften mot energin - välj en specifik figurstorlek (större än standarden)\n",
    "plt.figure(figsize=(10, 7))\n",
    "plt.plot(avgifter, energi)\n",
    "\n",
    "# plotta en punkt som visar energitillförseln för en vis avgiftsstorlek\n",
    "x = 0.78\n",
    "y = energiavgift(x)\n",
    "plt.plot(x, y, 'b*')\n",
    "\n",
    "# anpassa punkttexten till punktens placering i koordinatsystemet\n",
    "text = 'Energitillförsel'\n",
    "if 0.0 <= x <= 0.35 or 0.60 <= x <= 0.75:\n",
    "    plt.annotate(text, (x, y),  textcoords=\"offset points\", xytext=(8,5), ha='left')\n",
    "elif 0.35 < x < 0.60:\n",
    "    plt.annotate(text, (x, y),  textcoords=\"offset points\", xytext=(-1,8), ha='right')\n",
    "else:\n",
    "    plt.annotate(text, (x, y),  textcoords=\"offset points\", xytext=(-7,-5), ha='right')\n",
    "\n",
    "# namnge koordinat axlarna\n",
    "plt.xlabel('Energiavgift')\n",
    "plt.ylabel('Energitillförsel')\n",
    "\n",
    "# plotta förklaring på axlarna samt en given avgifts energitillförsel\n",
    "plt.text(0.5, 0.004, f'Avgift = {round(x, 2)}, Energitillförsel = {round(y, 2)}', ha='center', fontsize=12)\n",
    "plt.text(0.5, 0.008, 'Energiavgiften anser andelen av fartygets kvarvarande bränsle', ha='center', fontsize=12)\n",
    "plt.text(0.5, 0.012, 'Energitillförseln anser andelen av kolonins årsförbrukning', ha='center', fontsize=12)\n",
    "\n",
    "# placera ett gitter (grid) i koordinatsystemet med skalstreck (minorticks)\n",
    "plt.minorticks_on()\n",
    "plt.grid(which='major', color='#DDDDDD', linewidth=0.8)\n",
    "plt.grid(which='minor', color='#CCCCCC', linestyle=':', linewidth=0.5)\n",
    "plt.grid('on')\n",
    "plt.ylim(0, max(energi)*1.1)\n",
    "plt.xlim(0, 1.05)\n",
    "\n",
    "# plotta\n",
    "plt.show()"
   ]
  },
  {
   "cell_type": "markdown",
   "id": "51446174",
   "metadata": {},
   "source": [
    "Notera att energitillförsel varierar med energiavgiften i en utveckling som ser ut att närmast vara en parabel. Våra konsulter har alltså kommit fram till att energitillförseln inte ökar linjärt om vi ökar avgifterna, vilket kanske kan bero på att det blir fler som tar en omväg genom solsystemet för att undvika vårt område även om de skulle ha fått en positiv gravitationsboost från Jupiter med på köpet. \n",
    "\n",
    "Det blir helt enkelt inte lönsamt för främmande skepp att utnyttja en lokal gravitationsslunga om det kostar mer i bränsle än att åka runt oss. Men vi kan också se att vi har en toppunkt på grafen, en storlek på avgifterna som maximerar vår nya kolonis energitillförsel. "
   ]
  }
 ],
 "metadata": {
  "kernelspec": {
   "display_name": "Python 3 (ipykernel)",
   "language": "python",
   "name": "python3"
  },
  "language_info": {
   "codemirror_mode": {
    "name": "ipython",
    "version": 3
   },
   "file_extension": ".py",
   "mimetype": "text/x-python",
   "name": "python",
   "nbconvert_exporter": "python",
   "pygments_lexer": "ipython3",
   "version": "3.9.7"
  }
 },
 "nbformat": 4,
 "nbformat_minor": 5
}
