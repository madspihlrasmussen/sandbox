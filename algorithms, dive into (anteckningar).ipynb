{
 "cells": [
  {
   "cell_type": "markdown",
   "id": "daef3af8",
   "metadata": {},
   "source": [
    "# DIVE INTO ALGORITHMS\n",
    "**Bradford Tuckfield**, No Starch Press, 2021"
   ]
  },
  {
   "cell_type": "markdown",
   "id": "c67bf508",
   "metadata": {},
   "source": [
    "# Inledning\n",
    "\n",
    "Vi kan betrakta en algoritm som en endlig mängd regler i en följd av operationer som löser en specifik typ av problem.\n",
    "\n",
    "Datorer och andra digitala strukturer är bra verktyg till att implementera algoritmer med god precision, men algoritmer i allmänhet är mycket mera allmänna företeelser än specifika datorprogram. \n",
    "\n",
    "Dokumentet innehåller:\n",
    "\n",
    "1. [Russian peasant multiplication](#russian_peasant_multiplication)"
   ]
  },
  {
   "cell_type": "markdown",
   "id": "e211d6bf",
   "metadata": {},
   "source": [
    "<a id='russian_peasant_multiplication'></a>\n",
    "## Russian Peasant Multiplication (RPM)\n",
    "\n",
    "Vi vill multiplicera 89 med 18 och vi bildar nu två kolumner, en för *halvering* och en för *dubblering*. \n",
    "\n",
    "I halveringskolumnen delar vi nu med 2 och ignorerar resten. Så fortsätter vi tills vi når 1. Och sen dubblerar vi iterativt i den andra kolumnen. Detta ger tabellen nedan.\n",
    "\n",
    "<img src=\"images/algorithms01.png\" style=\"width: 100px;\"/>\n",
    "\n",
    "Vi plockar nu bort alla värden i halveringskolumnen som är jämna tal. Och slutligen tar vi summan av det som är kvar i dubbleringskolumnen. Detta ger oss svaret på $89\\times18=1602$.\n",
    "\n",
    "<img src=\"images/algorithms02.png\" style=\"width: 300px;\"/>\n",
    "\n",
    "Detta fungerar eftersom dubbleringskolonnen består av en summa av $2^a$ multipler av 18 och mera specifikt ser vi att vi har\n",
    "\n",
    "$$\n",
    "(2^0\\cdot18) + (2^3\\cdot18) + (2^4\\cdot18) + (2^6\\cdot18) = (1+2+4+8+16+32+64)\\cdot 18 = 89\\cdot18\n",
    "$$\n",
    "\n",
    "eftersom vi endast har kvar de $2^a$ som motsvarar jämna tal i halveringskolumnen. Men varför fungerar detta? \n",
    "\n",
    "Titta nu på hur tabellen ser ut om vi skriver halveringskolumnen som summor av $2^a$ termer och multiplicerar varje sådan summa med $2^1$. Vidare lägger vi till en term $2^0$ i varje rad där halveringstalet är udda.\n",
    "\n",
    "<img src=\"images/algorithms03.png\" style=\"width: 400px;\"/>\n",
    "\n",
    "Numrera nu raderna från 0 till *n* vilket i detta fall ger följden $\\{0,1,2,3,4,5,6\\}$. Intressant nog är det raderna 0, 3, 4 och 6 som är där vi har lagt till en extra $2^0$, alltså det är raderna där vi har udda halveringstal. Och samtidigt är dessa radnummer exakt samma värden som potenserna i $2^0+2^3+2^4+2^6$ gav oss ovan.\n",
    "\n",
    "När vi således tar \n",
    "\n",
    "$$\n",
    "18\\cdot\\left(2^0+2^3+2^4+2^6\\right)\n",
    "$$\n",
    "\n",
    "är detta helt enkelt produkten av 18 med summan av de potenser av 2 som ger 89. Men detta måste då motsvara summan av exakt de raderna i dubbleringskolumnen som innehåller just dessa potenser eftersom vi i den kolumnen har brutit ned dubbleringen i termer av formen $18\\cdot 2^a$.\n",
    "\n",
    "Egentligen har vi i denna algoritm en annan algoritm inbakad i form av talet 89 på binär form eftersom \n",
    "\n",
    "$$\n",
    "89 = (1\\cdot 2^0) + (0\\cdot2^1) + (0\\cdot 2^2) + (1\\cdot 2^3) + (1\\cdot 2^4) + (0\\cdot 2^5) + (1\\cdot 2^6)\n",
    "$$\n",
    "och\n",
    "$$\n",
    "89_2 = 1001101\n",
    "$$\n",
    "\n",
    "och nu ser vi återigen indirekt, den här gången från positionerna i binära forman av 89, att rad 0, 3, 4 och 6 av dubbleringskolumnen är de som vi summerar ihop."
   ]
  },
  {
   "cell_type": "markdown",
   "id": "1ab43d64",
   "metadata": {},
   "source": [
    "<a id='the_destination'></a>\n",
    "### Python implementering\n",
    "\n",
    "Låt oss implementera detta i Python. \n",
    "\n",
    "Det centrala verktyget vi behöver är $\\texttt{math.floor}$ så vi kan halvera och runda ned utan att spara någon rest. \n",
    "\n",
    "Vi bildar en lista med den af faktorerna som ska halveras och sen använder vi en loop som först halvera och sen lägger till nya värdet i halveringslistan.\n",
    "\n",
    "Vi har redan sett att algoritmen fungerar för hand med $89\\cdot18$, så vi kan börja med att implementera den produkten i Python för att se att det faktiskt fungerar."
   ]
  },
  {
   "cell_type": "code",
   "execution_count": null,
   "id": "32a1517d",
   "metadata": {
    "code_folding": []
   },
   "outputs": [],
   "source": [
    "# math biblioteket innehåller funktionen math.floor\n",
    "import math\n",
    "\n",
    "# startvärdet i rad 0\n",
    "h0 = 89\n",
    "\n",
    "# initiera halveringslistan och inkludera startvärdet \n",
    "halvering = [h0]\n",
    "\n",
    "# loopa genom halveringar av sista värdet i listan tills sista värdet är 1\n",
    "while halvering[-1] > 1:\n",
    "    halvering.append(math.floor(halvering[-1]/2))\n",
    "\n",
    "print(halvering)"
   ]
  },
  {
   "cell_type": "markdown",
   "id": "ff0b31d3",
   "metadata": {},
   "source": [
    "Vi vill också bilda en lista för dubblering med startvärdet 18 och vi gör detta enkelt med en loop som utnyttjar antalet element i halveringslistan."
   ]
  },
  {
   "cell_type": "code",
   "execution_count": null,
   "id": "ec46cb98",
   "metadata": {
    "code_folding": []
   },
   "outputs": [],
   "source": [
    "# startvärdet i rad 0\n",
    "d0 = 18\n",
    "\n",
    "# initiera dubbleringslistan och inkludera startvärdet\n",
    "dubblering = [d0]\n",
    "\n",
    "# loopa genom dubbleringar av sista värdet i listan len(halvering)-1 antal gånger\n",
    "# eftersom vi redan har första värdet = d0\n",
    "for i in range(len(halvering)-1):\n",
    "    dubblering.append(dubblering[-1]*2)\n",
    "\n",
    "print(dubblering)"
   ]
  },
  {
   "cell_type": "markdown",
   "id": "c98c292a",
   "metadata": {},
   "source": [
    "Vi vill nu göra en samlad tabell med våra två listor på samma sätt som vi gjorde för hand ovan. Med Pythons bibliotek $\\texttt{pandas}$ kan man lätt göra detta. Vi använder en tvådimensionell dataform som kallas för $\\texttt{DataFrame}$ som bland annat har fördelen att den direkt numrerar rader och kolumner från och med index 0. \n",
    "\n",
    "Vi bildar tabellen genom att använda funktionen $\\texttt{zip}$ som klistrar ihop de två kolumnerna - som när en blixtlås samlar två sidor av en jacka.\n",
    "\n",
    "Notera att när du kör koden nedan första gången kan det ta en stund innan cellens output visas. Pandaer är lite tröga djur."
   ]
  },
  {
   "cell_type": "code",
   "execution_count": null,
   "id": "948d9806",
   "metadata": {
    "scrolled": true
   },
   "outputs": [],
   "source": [
    "import pandas as pd\n",
    "\n",
    "rpm_tabell = pd.DataFrame(zip(halvering, dubblering))\n",
    "\n",
    "print(rpm_tabell)"
   ]
  },
  {
   "cell_type": "markdown",
   "id": "80000923",
   "metadata": {},
   "source": [
    "Det återstår att både plocka bort raderna 1, 2 och 5 från kolumn 0 och sen att summera kvarvarande värden i kolumn 1.\n",
    "\n",
    "I Pandas har vi en smidig kommando $\\texttt{[namn].loc[ ]}$ som specifikt väljer ut de rader en en given kolumn som vi specificerar. Och i det här fallet vill vi komma åt alla rader som *inte* är delbara med 2 eftersom vi från kolumn 0 endast vill ha kvar rader med udda tal. \n",
    "\n",
    "För att göra detta kan vi använda Pythons inbyggda $\\texttt{modulo}$ funktionalitet och välja alla talen som är 1 modulo 2, alltså alla tal som har en rest 1 när de delas med 2, vilket ju precis är alla udda tal. Alla sådana tal *a* skriver vi $\\texttt{a%2 == 1}$.\n",
    "\n",
    "$\\texttt{loc}$ kommandot använder kommas till att separera rader och kolumner och eftersom det är från kolumn 0 vi vill identificera de udda talen är det också på dennas rader att vi gör modulooperationen. *Men* sen är det ju egentligen de kvarvarande värden i kolumn 1 vi vill ha kvar och vi låter alltså $\\texttt{loc}$ välja att ha kvar just denna kolonn.\n",
    "\n",
    "I Python blir detta"
   ]
  },
  {
   "cell_type": "code",
   "execution_count": null,
   "id": "b737525d",
   "metadata": {
    "code_folding": []
   },
   "outputs": [],
   "source": [
    "rpm_values = rpm_tabell.loc[rpm_tabell[0]%2 == 1, 1]"
   ]
  },
  {
   "cell_type": "markdown",
   "id": "9e8aff9a",
   "metadata": {},
   "source": [
    "Vi använder därmed tabellen till att bilda en ny tabell som bara är *en* kolumn med precis de värden vi vill summera.\n",
    "\n",
    "Man kan nu direkt i Pandas summera alla värden i rpm_values tabellen men säg att vi gärna vill ha en array med värden först av någon anledning, till exempel om vi vill göra något annat med data eller vi vill spara dem i ett format vi lätt kan använda i loops och liknande. \n",
    "\n",
    "Vi använder därför Pandas $\\texttt{.values}$ kommando som gör om DataFramen till en array. "
   ]
  },
  {
   "cell_type": "code",
   "execution_count": null,
   "id": "a1f5db70",
   "metadata": {},
   "outputs": [],
   "source": [
    "rpm_values = rpm_values.values\n",
    "print(rpm_values)"
   ]
  },
  {
   "cell_type": "markdown",
   "id": "2dbb6df0",
   "metadata": {},
   "source": [
    "Slutligen summerar vi alla elementen i rpm_values och nu har vi resultatet av multiplikationen vi söker."
   ]
  },
  {
   "cell_type": "code",
   "execution_count": null,
   "id": "ffd5c995",
   "metadata": {},
   "outputs": [],
   "source": [
    "rpm_svar = sum(rpm_values)\n",
    "print(f'{h0} * {d0} = {rpm_svar}')"
   ]
  },
  {
   "cell_type": "markdown",
   "id": "60863708",
   "metadata": {},
   "source": [
    "Vi kan nu samla hela koden nedan. I implementeringen vill vi gärna låta användaren kunna bestämma vilken produkt som ska beräknas så vi lägger till några linjer kod med inputmöjligheter samt inkluderar lite pedagogisk text."
   ]
  },
  {
   "cell_type": "code",
   "execution_count": null,
   "id": "63425f50",
   "metadata": {
    "code_folding": [
     0
    ],
    "scrolled": false
   },
   "outputs": [],
   "source": [
    "# samlat program för RPM multiplikationsalgoritmen\n",
    "\"\"\"Detta program använder algoritmen Russian Peasant Multiplication (RPM) \n",
    "till att beräkna produkten av två tal.\"\"\"\n",
    "\n",
    "# math biblioteket innehåller funktionen math.floor\n",
    "import math\n",
    "\n",
    "#pandas biblioteket använder vi till att bilda en datatabell av två listor\n",
    "import pandas as pd\n",
    "\n",
    "# introducerande text\n",
    "print('Detta program använder algoritmen Russian Peasant Multiplication (RPM)\\n' \n",
    "      'till att beräkna produkten av två heltal.')\n",
    "\n",
    "# halveringslistans startvärde i rad 0\n",
    "h0 = int(input(f'\\nSkriv in det första heltalet i produkten: '))\n",
    "\n",
    "# initiera halveringslistan och inkludera startvärdet \n",
    "halvering = [h0]\n",
    "\n",
    "# loopa genom halveringar av sista värdet i listan tills sista värdet är 1\n",
    "while halvering[-1] > 1:\n",
    "    halvering.append(math.floor(halvering[-1]/2))\n",
    "\n",
    "# dubbleringsllistans startvärde i rad 0\n",
    "d0 = int(input(f'\\nSkriv in det andra heltalet i produkten: '))\n",
    "\n",
    "# initiera dubbleringslistan och inkludera startvärdet\n",
    "dubblering = [d0]\n",
    "\n",
    "# loopa genom dubbleringar av sista värdet i listan len(halvering)-1 antal gånger\n",
    "# eftersom vi redan har första värdet = d0\n",
    "for i in range(len(halvering)-1):\n",
    "    dubblering.append(dubblering[-1]*2)\n",
    "\n",
    "print(f'\\nBeräknar nu produkten {h0} * {d0}')\n",
    "\n",
    "# bilda en tabell av de två listorna\n",
    "rpm_tabell = pd.DataFrame(zip(halvering, dubblering))\n",
    "\n",
    "# välj bara ut de värden i dubbleringslistan \n",
    "# som motsvaras av udda tal i halveringslistan.\n",
    "rpm_values = rpm_tabell.loc[rpm_tabell[0]%2 == 1, 1]\n",
    "\n",
    "# gör en array ut av värden vi har kvar från dubbleringslistan\n",
    "rpm_values = rpm_values.values\n",
    "\n",
    "# summera värden i arrayen och skriv ut svaret\n",
    "rpm_svar = sum(rpm_values)\n",
    "print(f'{h0} * {d0} = {rpm_svar}')"
   ]
  },
  {
   "cell_type": "code",
   "execution_count": null,
   "id": "30b67fac",
   "metadata": {},
   "outputs": [],
   "source": []
  }
 ],
 "metadata": {
  "kernelspec": {
   "display_name": "Python 3 (ipykernel)",
   "language": "python",
   "name": "python3"
  },
  "language_info": {
   "codemirror_mode": {
    "name": "ipython",
    "version": 3
   },
   "file_extension": ".py",
   "mimetype": "text/x-python",
   "name": "python",
   "nbconvert_exporter": "python",
   "pygments_lexer": "ipython3",
   "version": "3.9.7"
  }
 },
 "nbformat": 4,
 "nbformat_minor": 5
}
