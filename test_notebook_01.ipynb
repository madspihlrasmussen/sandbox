{
 "cells": [
  {
   "cell_type": "markdown",
   "id": "d066745a",
   "metadata": {},
   "source": [
    "Detta är ett första försök på att använda Jupyter notebooks.\n",
    "\n",
    "Det är lite coolt att vi direkt kan använda LaTeX markdown som till exempel $m=4x^2$ och\n",
    "\n",
    "\\begin{align}\\label{horse}\n",
    "    \\int_a^b f(x) \\ dx\n",
    "\\end{align}\n",
    "\n",
    "men man måste dock ha bra koll på sina LaTeX färdigheter eftersom vi inte har någon form av autocompletion eller tips till fel man kan ha gjort. \n",
    "\n",
    "Man kan även referera till tidigare ekvationer med $\\eqref{horse}$. \n",
    "\n"
   ]
  },
  {
   "cell_type": "code",
   "execution_count": 1,
   "id": "5864d100",
   "metadata": {},
   "outputs": [
    {
     "name": "stdout",
     "output_type": "stream",
     "text": [
      "[0.   0.25 0.5  0.75 1.   1.25 1.5  1.75 2.   2.25 2.5  2.75]\n",
      "[0, 2, 4, 6, 8, 10, 12, 14]\n"
     ]
    }
   ],
   "source": [
    "import numpy as np\n",
    "\n",
    "A = np.arange(0, 3, 0.25)\n",
    "L = [2*i for i in range(8)]\n",
    "\n",
    "print(A)\n",
    "print(L)"
   ]
  },
  {
   "cell_type": "markdown",
   "id": "d659b45f",
   "metadata": {},
   "source": [
    "***"
   ]
  },
  {
   "cell_type": "markdown",
   "id": "ba57ff38",
   "metadata": {},
   "source": [
    "Det går även att göra över flera celler om man uppdatera numreringen löpande$\\eqref{horse}$. Uppdateringar sker med knappen \"Reset equation numbering\" i menubaren. Man kan även framåtreferera till $\\eqref{2}$\n",
    "\n",
    "Här kommer ytterligare en numrerad ekvation \n",
    "\\begin{align}\\label{2}\n",
    "    f(x) = \\frac{2x^2}{\\sin^2{(x)}}\n",
    "\\end{align}"
   ]
  },
  {
   "cell_type": "markdown",
   "id": "2b5a2ff6",
   "metadata": {},
   "source": [
    "$\\left[\\frac{\\mathbb{R}}{\\mathcal{O}(h^2)}\\right]$"
   ]
  },
  {
   "cell_type": "code",
   "execution_count": 3,
   "id": "95633df5",
   "metadata": {},
   "outputs": [
    {
     "name": "stdout",
     "output_type": "stream",
     "text": [
      "Skillnad mellan exakt och numerisk lösning: 0.09000229973401375\n",
      "Antal steg: 1000\n"
     ]
    },
    {
     "data": {
      "image/png": "[encoded data removed]",
      "text/plain": [
       "<Figure size 432x288 with 1 Axes>"
      ]
     },
     "metadata": {
      "needs_background": "light"
     },
     "output_type": "display_data"
    }
   ],
   "source": [
    "import matplotlib.pyplot as plt\n",
    "\n",
    "a = 0.0\n",
    "b = 3.0\n",
    "N = 1000\n",
    "dt = (b-a)/N\n",
    "\n",
    "V = np.zeros(N+1)\n",
    "V[0] = 1\n",
    "\n",
    "t_num = np.linspace(a, b, N+1)\n",
    "t_exakt = np.linspace(a, b, 1000)\n",
    "\n",
    "for i in range(0, N, 1):\n",
    "\tV[i+1] = V[i] + dt*V[i]\n",
    "\n",
    "plt.plot(t_exakt, np.e**t_exakt, 'b')\n",
    "plt.plot(t_num, V, 'g')\n",
    "\n",
    "print(f'Skillnad mellan exakt och numerisk lösning: {np.e**(t_exakt[-1])-V[-1]}')\n",
    "print(f'Antal steg: {N}')\n",
    "\n",
    "plt.show()"
   ]
  },
  {
   "cell_type": "code",
   "execution_count": null,
   "id": "34fc404a",
   "metadata": {},
   "outputs": [],
   "source": []
  }
 ],
 "metadata": {
  "kernelspec": {
   "display_name": "Python 3 (ipykernel)",
   "language": "python",
   "name": "python3"
  },
  "language_info": {
   "codemirror_mode": {
    "name": "ipython",
    "version": 3
   },
   "file_extension": ".py",
   "mimetype": "text/x-python",
   "name": "python",
   "nbconvert_exporter": "python",
   "pygments_lexer": "ipython3",
   "version": "3.9.7"
  }
 },
 "nbformat": 4,
 "nbformat_minor": 5
}
